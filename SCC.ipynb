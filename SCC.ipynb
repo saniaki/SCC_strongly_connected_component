{
 "cells": [
  {
   "cell_type": "code",
   "execution_count": 4,
   "metadata": {},
   "outputs": [],
   "source": [
    "from numpy import loadtxt\n",
    "import copy\n",
    "import csv"
   ]
  },
  {
   "cell_type": "code",
   "execution_count": 5,
   "metadata": {},
   "outputs": [],
   "source": [
    "def edgeGraph_to_listrepGraph(d):\n",
    "    '''\n",
    "    This function convert a file containing all edges of a directed graph\n",
    "    to its list representation form\n",
    "    \n",
    "    input:\n",
    "            d is the list contain all rows of the file\n",
    "    ourput:\n",
    "            G is a dictionary as list representation of the graph. keys are source vortecx\n",
    "            and values (in form list) have the destionations \n",
    "    '''\n",
    "    i = 1\n",
    "    m = len(d) # number of edges (number of rows in the file)\n",
    "    G = {}\n",
    "    G['1'] = []\n",
    "    x = 0\n",
    "    node_num_max = 0 # keep track of maximum node number. The graph dictionary should include all of them even with empty list\n",
    "    \n",
    "    while x < m:\n",
    "        if int(d[x][0]) == i:\n",
    "            G[str(i)].append(int(d[x][1]))\n",
    "            if i > node_num_max:\n",
    "                node_num_max = i\n",
    "            if int(d[x][1]) > node_num_max:\n",
    "                node_num_max = int(d[x][1])\n",
    "            x = x + 1\n",
    "            p = 1\n",
    "        else:\n",
    "            i += 1\n",
    "            G[str(i)] = []\n",
    "            if i > node_num_max:\n",
    "                node_num_max = i\n",
    "            if int(d[x][1]) > node_num_max:\n",
    "                node_num_max = int(d[x][1])\n",
    "                \n",
    "    while i < node_num_max:\n",
    "        i += 1\n",
    "        G[str(i)] = []\n",
    "    return G    "
   ]
  },
  {
   "cell_type": "code",
   "execution_count": 6,
   "metadata": {},
   "outputs": [],
   "source": [
    "def DFS(G,i):\n",
    "    '''\n",
    "    Deep-First Search algortihm\n",
    "    \n",
    "    Input:\n",
    "            G is the input graph\n",
    "            i is the node that algorithm finds all reaschable vortecies from it\n",
    "    Outputs:\n",
    "            leader is a dictionary represnting each node with values as leaders\n",
    "            f is a dictionary represnting each node with values as finishing time\n",
    "            G_explored is a dictionary represnting each node with values (T/F) as explored/unexplored\n",
    "    '''\n",
    "    global t, s, G_explored, leader, f\n",
    "    \n",
    "    G_explored[str(i)] = True # make i explored\n",
    "    leader[str(i)] = str(s)\n",
    "    for j in G[str(i)]:\n",
    "        if G_explored[str(j)] == False:\n",
    "            DFS(G,j)\n",
    "    t += 1\n",
    "    f[str(i)] = t\n",
    "    return leader, f, G_explored"
   ]
  },
  {
   "cell_type": "code",
   "execution_count": 7,
   "metadata": {},
   "outputs": [],
   "source": [
    "def DFS_LOOP(G):\n",
    "    '''\n",
    "    DFS-LOOP algorithm for SSC finding\n",
    "    \n",
    "    Inputs:\n",
    "            G is the input graph \n",
    "    Outputs:\n",
    "            leader is a dictionary represnting each node with values as leaders\n",
    "            f is a dictionary represnting each node with values as finishing time\n",
    "            G_explored is a dictionary represnting each node with values (T/F) as explored/unexplored\n",
    "    '''\n",
    "    global t, s, G_explored, leader, f\n",
    "    for i in range(n,0,-1):\n",
    "        if G_explored[str(i)] == False:\n",
    "            s = i\n",
    "            leader, f, G_explored = DFS(G,i)\n",
    "    return leader, f, G_explored"
   ]
  },
  {
   "cell_type": "code",
   "execution_count": 16,
   "metadata": {},
   "outputs": [],
   "source": [
    "# reading the input file and outputing dG as a list containing all rows\n",
    "with open('Test_01.txt') as f:\n",
    "    reader = csv.reader(f, delimiter=\" \")\n",
    "    dG = list(reader)\n",
    "dG.sort(key = lambda x: int(x[0])) # sort based on first column\n",
    "    \n",
    "# creating dGrev, switching first and second column of dG and sort based on first column\n",
    "X = dG\n",
    "X =  dG.copy()\n",
    "X.sort(key = lambda x: int(x[1])) \n",
    "dGrev = []\n",
    "k = 0\n",
    "for i in X:\n",
    "    dGrev.append([i[1]])\n",
    "    dGrev[k].append(i[0])\n",
    "    k += 1"
   ]
  },
  {
   "cell_type": "code",
   "execution_count": 17,
   "metadata": {},
   "outputs": [
    {
     "name": "stdout",
     "output_type": "stream",
     "text": [
      "{'1': [4], '2': [8], '3': [6], '4': [7], '5': [2], '6': [9], '7': [1], '8': [6, 5], '9': [7, 3]}\n",
      "{'1': [7], '2': [5], '3': [9], '4': [1], '5': [8], '6': [3, 8], '7': [4, 9], '8': [2], '9': [6]}\n"
     ]
    }
   ],
   "source": [
    "# creating list represntation of G and Grev (inverse of G) \n",
    "G = edgeGraph_to_listrepGraph(dG)\n",
    "print(G)\n",
    "Grev = edgeGraph_to_listrepGraph(dGrev)\n",
    "print(Grev)"
   ]
  },
  {
   "cell_type": "code",
   "execution_count": 21,
   "metadata": {},
   "outputs": [
    {
     "name": "stdout",
     "output_type": "stream",
     "text": [
      "SSC summary: leading nodes and number of nodes inside each SCC\n",
      "Counter({'6': 3, '4': 3, '9': 3})\n",
      "\n",
      "Leading keys sorted by their SCC sizes\n",
      "['6', '4', '9']\n",
      "\n",
      "Sorted SSC sizes\n",
      "[3, 3, 3]\n"
     ]
    }
   ],
   "source": [
    "'''Doing SSC determinations'''\n",
    "# initializing Global variables\n",
    "G_explored = {x: False for x in G} # intially all nodes are unexplored in G\n",
    "leader = copy.deepcopy(G) # intilize leader dictionary\n",
    "f = copy.deepcopy(G) # finishing time dictionary\n",
    "t = 0\n",
    "s = 0\n",
    "n = len(G)\n",
    "# 1 - Running DFS_LOOP on Grev\n",
    "Grev_leader, Grev_f, Grev_explored = DFS_LOOP(Grev)\n",
    "\n",
    "# 2 - Updating node labels of G with finishing time obtained from Grev\n",
    "# updating keys \n",
    "G_key_updated = dict((str(Grev_f[key]), value) for (key, value) in G.items())\n",
    "# updating values \n",
    "G_full_updated= {}\n",
    "for (key, value) in G_key_updated.items():\n",
    "    G_full_updated[str(key)] = []\n",
    "    for i in range(0,len(G_key_updated[str(key)])):\n",
    "        G_full_updated[str(key)].append(Grev_f[str(G_key_updated[str(key)][i])])\n",
    "\n",
    "\n",
    "# 3 - Running DFS_LOOP on G with updated node lables\n",
    "G_explored = {x: False for x in G} # intially all nodes are unexplored in G\n",
    "leader = copy.deepcopy(G) # intilize leader dictionary\n",
    "f = copy.deepcopy(G) # finishing time dictionary\n",
    "t = 0\n",
    "s = 0\n",
    "n = len(G)\n",
    "G_leader, G_f, G_explored = DFS_LOOP(G_full_updated)\n",
    "\n",
    "'''SSC sizes analysis'''\n",
    "from collections import Counter\n",
    "# counting duplicate values in G_leader\n",
    "# source: https://stackoverflow.com/questions/52027616/how-to-count-the-same-values-in-a-dict\n",
    "SSC_sizes = Counter(G_leader.values())\n",
    "print('SSC summary: leading nodes and number of nodes inside each SCC')\n",
    "print(SSC_sizes)\n",
    "# sort SSC_sizes (counted) keys based on maximum duplication (only 5 first items), represtens size of each SSC\n",
    "# source: https://stackoverflow.com/questions/7197315/5-maximum-values-in-a-python-dictionary\n",
    "sorted_based_on_val = sorted(SSC_sizes, key=SSC_sizes.get, reverse=True)\n",
    "print('\\nLeading keys sorted by their SCC sizes')\n",
    "print(sorted_based_on_val)\n",
    "# finding values of sorted keys, as bigest SSC sizes\n",
    "maximum_size_of_SSC = [SSC_sizes[str(i)] for i in sorted_based_on_val]\n",
    "print('\\nSorted SSC sizes')\n",
    "print(maximum_size_of_SSC)"
   ]
  },
  {
   "cell_type": "code",
   "execution_count": null,
   "metadata": {},
   "outputs": [],
   "source": []
  },
  {
   "cell_type": "code",
   "execution_count": null,
   "metadata": {},
   "outputs": [],
   "source": []
  },
  {
   "cell_type": "code",
   "execution_count": null,
   "metadata": {},
   "outputs": [],
   "source": []
  }
 ],
 "metadata": {
  "kernelspec": {
   "display_name": "Python 3",
   "language": "python",
   "name": "python3"
  },
  "language_info": {
   "codemirror_mode": {
    "name": "ipython",
    "version": 3
   },
   "file_extension": ".py",
   "mimetype": "text/x-python",
   "name": "python",
   "nbconvert_exporter": "python",
   "pygments_lexer": "ipython3",
   "version": "3.7.4"
  }
 },
 "nbformat": 4,
 "nbformat_minor": 2
}
